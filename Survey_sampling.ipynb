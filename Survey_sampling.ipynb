{
  "nbformat": 4,
  "nbformat_minor": 0,
  "metadata": {
    "colab": {
      "provenance": []
    },
    "kernelspec": {
      "name": "python3",
      "display_name": "Python 3"
    },
    "language_info": {
      "name": "python"
    }
  },
  "cells": [
    {
      "cell_type": "code",
      "execution_count": null,
      "metadata": {
        "colab": {
          "base_uri": "https://localhost:8080/"
        },
        "id": "LCOvxLgRxxqA",
        "outputId": "02f5e918-2ca4-4aae-b1b5-b995a6d3abb7"
      },
      "outputs": [
        {
          "output_type": "stream",
          "name": "stdout",
          "text": [
            "Requirement already satisfied: pyDOE in /usr/local/lib/python3.10/dist-packages (0.3.8)\n",
            "Requirement already satisfied: numpy in /usr/local/lib/python3.10/dist-packages (from pyDOE) (1.26.4)\n",
            "Requirement already satisfied: scipy in /usr/local/lib/python3.10/dist-packages (from pyDOE) (1.13.1)\n",
            "Requirement already satisfied: pyDOE2 in /usr/local/lib/python3.10/dist-packages (1.3.0)\n",
            "Requirement already satisfied: numpy in /usr/local/lib/python3.10/dist-packages (from pyDOE2) (1.26.4)\n",
            "Requirement already satisfied: scipy in /usr/local/lib/python3.10/dist-packages (from pyDOE2) (1.13.1)\n"
          ]
        }
      ],
      "source": [
        "import numpy as np\n",
        "from pyDOE import lhs\n",
        "from pyDOE2 import ff2n\n",
        "import random\n",
        "\n",
        "# define the parameters and their levels\n",
        "parameters = {\n",
        "    \"Price\": [\"FREE\", \"$0.12/kWh\", \"$0.45/kWh\", \"$1.5/kWh\", \"$5/kWh\"],\n",
        "    \"State of Charge\": [\"20%\", \"35%\", \"50%\", \"65%\", \"80%\"],\n",
        "    \"Remaining Travel Distance\": [\"5 km\", \"15 km\", \"30 km\", \"100 km\", \"200 km\"],\n",
        "    \"Parking Duration\": [\"30 minutes\", \"1 hour\", \"2 hours\", \"4 hours\", \"6+ hours\"],\n",
        "    \"Charger Power Level\": [\"7.2 kW\", \"11 kW\", \"50 kW\"],\n",
        "    \"Location\": [\"Home\", \"Workplace/School\", \"Shopping\", \"Daycare\", \"Other\"],\n",
        "    \"Time of Day\": [\"Morning\", \"Noon\", \"Afternoon\", \"Evening\", \"Late evening / Night\"]\n",
        "}\n",
        "\n",
        "# define number of samples (questions) to generate\n",
        "n_samples = 5"
      ]
    },
    {
      "cell_type": "markdown",
      "source": [
        "# Function for Latin Hypercube Sampling (LHS)"
      ],
      "metadata": {
        "id": "xNT7cvXaEqWa"
      }
    },
    {
      "cell_type": "code",
      "source": [
        "def generate_lhs_scenarios(parameters, n_samples):\n",
        "    num_variables = len(parameters)\n",
        "    levels = [len(values) for values in parameters.values()]\n",
        "    # LHS matrix\n",
        "    lhs_matrix = lhs(num_variables, samples=n_samples)\n",
        "    # Map LHS samples to parameter levels\n",
        "    scenarios = []\n",
        "    for row in lhs_matrix:\n",
        "        scenario = {}\n",
        "        for i, (param, values) in enumerate(parameters.items()):\n",
        "            # Map LHS sample to a specific level\n",
        "            index = int(row[i] * len(values))\n",
        "            scenario[param] = values[index]\n",
        "        scenarios.append(scenario)\n",
        "    return scenarios"
      ],
      "metadata": {
        "id": "zyBL6947EhYw"
      },
      "execution_count": null,
      "outputs": []
    },
    {
      "cell_type": "markdown",
      "source": [
        "# Function for Fractional Factorial Design (FFD)"
      ],
      "metadata": {
        "id": "bTbIsUMuEd_7"
      }
    },
    {
      "cell_type": "code",
      "source": [
        "def generate_ffd_scenarios(parameters, n_samples):\n",
        "    # generate the design matrix\n",
        "    num_variables = len(parameters)\n",
        "    ffd_matrix = ff2n(num_variables)[:n_samples]  # get only the required number of samples\n",
        "\n",
        "    # Map FFD samples to parameter levels\n",
        "    scenarios = []\n",
        "    for row in ffd_matrix:\n",
        "        scenario = {}\n",
        "        for i, (param, values) in enumerate(parameters.items()):\n",
        "            # Convert FFD row values (-1, 1) to indices (0, len(values)-1)\n",
        "            index = int((row[i] + 1) / 2 * (len(values) - 1))\n",
        "            scenario[param] = values[index]\n",
        "        scenarios.append(scenario)\n",
        "    return scenarios"
      ],
      "metadata": {
        "id": "an0kjnmFyW8o"
      },
      "execution_count": null,
      "outputs": []
    },
    {
      "cell_type": "markdown",
      "source": [
        "# Format scenarios as questions"
      ],
      "metadata": {
        "id": "VqnRCa5mEWjk"
      }
    },
    {
      "cell_type": "code",
      "source": [
        "def format_scenario_questions(scenarios):\n",
        "    formatted_scenarios = []\n",
        "    for i, scenario in enumerate(scenarios, 1):\n",
        "        question = f\"\"\"\n",
        "Scenario {i}:\n",
        "You are at a {scenario['Location']} during the {scenario['Time of Day']}.\n",
        "- The charger available is rated at {scenario['Charger Power Level']}.\n",
        "- Your EV battery is currently at {scenario['State of Charge']}.\n",
        "- You plan to drive {scenario['Remaining Travel Distance']} for the rest of the day.\n",
        "- You expect to park for {scenario['Parking Duration']}.\n",
        "- The cost to charge is {scenario['Price']} per kWh.\n",
        "Would you choose to charge your vehicle under these circumstances? (Yes/No)\n",
        "\"\"\"\n",
        "        formatted_scenarios.append(question)\n",
        "    return formatted_scenarios"
      ],
      "metadata": {
        "id": "ycWDPMSAxz2Q"
      },
      "execution_count": null,
      "outputs": []
    },
    {
      "cell_type": "markdown",
      "source": [
        "# Generate scenarios using LHS"
      ],
      "metadata": {
        "id": "Vqa3VPGmEULZ"
      }
    },
    {
      "cell_type": "code",
      "source": [
        "lhs_scenarios = generate_lhs_scenarios(parameters, n_samples)\n",
        "lhs_questions = format_scenario_questions(lhs_scenarios)\n",
        "\n",
        "print(\"\\nLatin Hypercube Sampling (LHS) Scenario Questions:\")\n",
        "for question in lhs_questions:\n",
        "    print(question)"
      ],
      "metadata": {
        "colab": {
          "base_uri": "https://localhost:8080/"
        },
        "id": "6cQW6GPFymfl",
        "outputId": "f15f0d0b-d8b0-474c-bc7f-ae719224983e"
      },
      "execution_count": null,
      "outputs": [
        {
          "output_type": "stream",
          "name": "stdout",
          "text": [
            "\n",
            "Latin Hypercube Sampling (LHS) Scenario Questions:\n",
            "\n",
            "Scenario 1:\n",
            "You are at a Home during the Morning.\n",
            "- The charger available is rated at 11 kW.\n",
            "- Your EV battery is currently at 50%.\n",
            "- You plan to drive 30 km for the rest of the day.\n",
            "- You expect to park for 1 hour.\n",
            "- The cost to charge is FREE per kWh.\n",
            "Would you choose to charge your vehicle under these circumstances? (Yes/No)\n",
            "\n",
            "\n",
            "Scenario 2:\n",
            "You are at a Daycare during the Late evening / Night.\n",
            "- The charger available is rated at 7.2 kW.\n",
            "- Your EV battery is currently at 35%.\n",
            "- You plan to drive 100 km for the rest of the day.\n",
            "- You expect to park for 2 hours.\n",
            "- The cost to charge is $0.12/kWh per kWh.\n",
            "Would you choose to charge your vehicle under these circumstances? (Yes/No)\n",
            "\n",
            "\n",
            "Scenario 3:\n",
            "You are at a Workplace/School during the Noon.\n",
            "- The charger available is rated at 7.2 kW.\n",
            "- Your EV battery is currently at 20%.\n",
            "- You plan to drive 200 km for the rest of the day.\n",
            "- You expect to park for 30 minutes.\n",
            "- The cost to charge is $0.45/kWh per kWh.\n",
            "Would you choose to charge your vehicle under these circumstances? (Yes/No)\n",
            "\n",
            "\n",
            "Scenario 4:\n",
            "You are at a Other during the Afternoon.\n",
            "- The charger available is rated at 50 kW.\n",
            "- Your EV battery is currently at 80%.\n",
            "- You plan to drive 15 km for the rest of the day.\n",
            "- You expect to park for 6+ hours.\n",
            "- The cost to charge is $1.5/kWh per kWh.\n",
            "Would you choose to charge your vehicle under these circumstances? (Yes/No)\n",
            "\n",
            "\n",
            "Scenario 5:\n",
            "You are at a Shopping during the Evening.\n",
            "- The charger available is rated at 50 kW.\n",
            "- Your EV battery is currently at 65%.\n",
            "- You plan to drive 5 km for the rest of the day.\n",
            "- You expect to park for 4 hours.\n",
            "- The cost to charge is $5/kWh per kWh.\n",
            "Would you choose to charge your vehicle under these circumstances? (Yes/No)\n",
            "\n"
          ]
        }
      ]
    },
    {
      "cell_type": "markdown",
      "source": [
        "# Generate scenarios using FFD"
      ],
      "metadata": {
        "id": "2Gr86YGKEOUe"
      }
    },
    {
      "cell_type": "code",
      "source": [
        "ffd_scenarios = generate_ffd_scenarios(parameters, n_samples)\n",
        "ffd_questions = format_scenario_questions(ffd_scenarios)\n",
        "\n",
        "print(\"\\nFractional Factorial Design (FFD) Scenario Questions:\")\n",
        "for question in ffd_questions:\n",
        "    print(question)"
      ],
      "metadata": {
        "colab": {
          "base_uri": "https://localhost:8080/"
        },
        "id": "zrjoODUTyqiV",
        "outputId": "79ad6a28-df7b-417c-e4e3-c5b9d154d2cc"
      },
      "execution_count": null,
      "outputs": [
        {
          "output_type": "stream",
          "name": "stdout",
          "text": [
            "\n",
            "Fractional Factorial Design (FFD) Scenario Questions:\n",
            "\n",
            "Scenario 1:\n",
            "You are at a Home during the Morning.\n",
            "- The charger available is rated at 7.2 kW.\n",
            "- Your EV battery is currently at 20%.\n",
            "- You plan to drive 5 km for the rest of the day.\n",
            "- You expect to park for 30 minutes.\n",
            "- The cost to charge is FREE per kWh.\n",
            "Would you choose to charge your vehicle under these circumstances? (Yes/No)\n",
            "\n",
            "\n",
            "Scenario 2:\n",
            "You are at a Home during the Morning.\n",
            "- The charger available is rated at 7.2 kW.\n",
            "- Your EV battery is currently at 20%.\n",
            "- You plan to drive 5 km for the rest of the day.\n",
            "- You expect to park for 30 minutes.\n",
            "- The cost to charge is $5/kWh per kWh.\n",
            "Would you choose to charge your vehicle under these circumstances? (Yes/No)\n",
            "\n",
            "\n",
            "Scenario 3:\n",
            "You are at a Home during the Morning.\n",
            "- The charger available is rated at 7.2 kW.\n",
            "- Your EV battery is currently at 80%.\n",
            "- You plan to drive 5 km for the rest of the day.\n",
            "- You expect to park for 30 minutes.\n",
            "- The cost to charge is FREE per kWh.\n",
            "Would you choose to charge your vehicle under these circumstances? (Yes/No)\n",
            "\n",
            "\n",
            "Scenario 4:\n",
            "You are at a Home during the Morning.\n",
            "- The charger available is rated at 7.2 kW.\n",
            "- Your EV battery is currently at 80%.\n",
            "- You plan to drive 5 km for the rest of the day.\n",
            "- You expect to park for 30 minutes.\n",
            "- The cost to charge is $5/kWh per kWh.\n",
            "Would you choose to charge your vehicle under these circumstances? (Yes/No)\n",
            "\n",
            "\n",
            "Scenario 5:\n",
            "You are at a Home during the Morning.\n",
            "- The charger available is rated at 7.2 kW.\n",
            "- Your EV battery is currently at 20%.\n",
            "- You plan to drive 200 km for the rest of the day.\n",
            "- You expect to park for 30 minutes.\n",
            "- The cost to charge is FREE per kWh.\n",
            "Would you choose to charge your vehicle under these circumstances? (Yes/No)\n",
            "\n"
          ]
        }
      ]
    }
  ]
}